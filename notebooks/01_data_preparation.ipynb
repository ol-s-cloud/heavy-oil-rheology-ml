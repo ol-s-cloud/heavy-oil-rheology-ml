{
 "cells": [
  {
   "cell_type": "markdown",
   "metadata": {},
   "source": [
    "# Data Preparation for Heavy Oil Rheology Analysis\n",
    "This notebook contains the data preparation steps for analyzing heavy crude oil rheological properties."
   ]
  },
  {
   "cell_type": "code",
   "execution_count": null,
   "metadata": {},
   "outputs": [],
   "source": [
    "import pandas as pd\n",
    "import numpy as np\n",
    "# Import prepared data\n",
    "# Add your data preparation code here"
   ]
  }
 ]
}